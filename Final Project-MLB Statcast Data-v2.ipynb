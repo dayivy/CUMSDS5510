{
 "cells": [
  {
   "cell_type": "markdown",
   "id": "99b60feb",
   "metadata": {},
   "source": [
    "## Baseball Pitch Identification\n",
    "\n",
    "With the major league baseball season beginning this week, I wanted to look at pitch identification.  While watching a game, I often see pitches identified immediately as being either a fastball, curveball, slider, etc. (the various pitch types we may see in a game).  MLB uses a system called statcast to identify these pitches and, to my untrained eye at least, they often look quite similar.  I wanted to see how dissimilar these pitches really are, particularly from the batters perspective.  The statcast data from the past few seasons is available on kaggle at https://www.kaggle.com/datasets/s903124/mlb-statcast-data\n",
    "\n",
    "Descriptions of the column data can be found at https://baseballsavant.mlb.com/csv-docs"
   ]
  },
  {
   "cell_type": "markdown",
   "id": "ea9b4e11",
   "metadata": {},
   "source": [
    "#### Exploratory Data Analysis"
   ]
  },
  {
   "cell_type": "code",
   "execution_count": 1,
   "id": "56b55f5a",
   "metadata": {},
   "outputs": [],
   "source": [
    "import pandas as pd\n",
    "import numpy as np"
   ]
  },
  {
   "cell_type": "code",
   "execution_count": 2,
   "id": "14478399",
   "metadata": {},
   "outputs": [],
   "source": [
    "data_2017 = pd.read_csv(\"statcast_2017.csv\")\n",
    "data_2018 = pd.read_csv(\"statcast_2018.csv\")\n",
    "data_2019 = pd.read_csv(\"statcast_2019.csv\")\n",
    "data_2020 = pd.read_csv(\"statcast_2020.csv\")\n",
    "data_2021 = pd.read_csv(\"statcast_2021.csv\")"
   ]
  },
  {
   "cell_type": "markdown",
   "id": "2eb833c7",
   "metadata": {},
   "source": [
    "Checking to make sure all of the individual season dataframes have the same columns"
   ]
  },
  {
   "cell_type": "code",
   "execution_count": 3,
   "id": "c99e9d5d",
   "metadata": {},
   "outputs": [
    {
     "data": {
      "text/html": [
       "<div>\n",
       "<style scoped>\n",
       "    .dataframe tbody tr th:only-of-type {\n",
       "        vertical-align: middle;\n",
       "    }\n",
       "\n",
       "    .dataframe tbody tr th {\n",
       "        vertical-align: top;\n",
       "    }\n",
       "\n",
       "    .dataframe thead th {\n",
       "        text-align: right;\n",
       "    }\n",
       "</style>\n",
       "<table border=\"1\" class=\"dataframe\">\n",
       "  <thead>\n",
       "    <tr style=\"text-align: right;\">\n",
       "      <th></th>\n",
       "      <th>Unnamed: 0</th>\n",
       "      <th>pitch_type</th>\n",
       "      <th>game_date</th>\n",
       "      <th>release_speed</th>\n",
       "      <th>release_pos_x</th>\n",
       "      <th>release_pos_z</th>\n",
       "      <th>player_name</th>\n",
       "      <th>batter</th>\n",
       "      <th>pitcher</th>\n",
       "      <th>events</th>\n",
       "      <th>...</th>\n",
       "      <th>fld_score</th>\n",
       "      <th>post_away_score</th>\n",
       "      <th>post_home_score</th>\n",
       "      <th>post_bat_score</th>\n",
       "      <th>post_fld_score</th>\n",
       "      <th>if_fielding_alignment</th>\n",
       "      <th>of_fielding_alignment</th>\n",
       "      <th>spin_axis</th>\n",
       "      <th>delta_home_win_exp</th>\n",
       "      <th>delta_run_exp</th>\n",
       "    </tr>\n",
       "  </thead>\n",
       "  <tbody>\n",
       "    <tr>\n",
       "      <th>0</th>\n",
       "      <td>2265</td>\n",
       "      <td>FC</td>\n",
       "      <td>2017-10-01</td>\n",
       "      <td>91.9</td>\n",
       "      <td>-1.19</td>\n",
       "      <td>5.99</td>\n",
       "      <td>Osuna, Roberto</td>\n",
       "      <td>595885</td>\n",
       "      <td>532077</td>\n",
       "      <td>field_out</td>\n",
       "      <td>...</td>\n",
       "      <td>2</td>\n",
       "      <td>2</td>\n",
       "      <td>1</td>\n",
       "      <td>1</td>\n",
       "      <td>2</td>\n",
       "      <td>Infield shift</td>\n",
       "      <td>Strategic</td>\n",
       "      <td>183.0</td>\n",
       "      <td>-0.044</td>\n",
       "      <td>-0.124</td>\n",
       "    </tr>\n",
       "    <tr>\n",
       "      <th>1</th>\n",
       "      <td>2350</td>\n",
       "      <td>FC</td>\n",
       "      <td>2017-10-01</td>\n",
       "      <td>91.8</td>\n",
       "      <td>-1.08</td>\n",
       "      <td>6.18</td>\n",
       "      <td>Osuna, Roberto</td>\n",
       "      <td>595885</td>\n",
       "      <td>532077</td>\n",
       "      <td>NaN</td>\n",
       "      <td>...</td>\n",
       "      <td>2</td>\n",
       "      <td>2</td>\n",
       "      <td>1</td>\n",
       "      <td>1</td>\n",
       "      <td>2</td>\n",
       "      <td>Infield shift</td>\n",
       "      <td>Strategic</td>\n",
       "      <td>164.0</td>\n",
       "      <td>-0.044</td>\n",
       "      <td>-0.035</td>\n",
       "    </tr>\n",
       "    <tr>\n",
       "      <th>2</th>\n",
       "      <td>2397</td>\n",
       "      <td>FF</td>\n",
       "      <td>2017-10-01</td>\n",
       "      <td>94.7</td>\n",
       "      <td>-0.62</td>\n",
       "      <td>6.34</td>\n",
       "      <td>Osuna, Roberto</td>\n",
       "      <td>595885</td>\n",
       "      <td>532077</td>\n",
       "      <td>NaN</td>\n",
       "      <td>...</td>\n",
       "      <td>2</td>\n",
       "      <td>2</td>\n",
       "      <td>1</td>\n",
       "      <td>1</td>\n",
       "      <td>2</td>\n",
       "      <td>Infield shift</td>\n",
       "      <td>Strategic</td>\n",
       "      <td>189.0</td>\n",
       "      <td>-0.044</td>\n",
       "      <td>0.038</td>\n",
       "    </tr>\n",
       "    <tr>\n",
       "      <th>3</th>\n",
       "      <td>2485</td>\n",
       "      <td>CH</td>\n",
       "      <td>2017-10-01</td>\n",
       "      <td>82.8</td>\n",
       "      <td>-0.99</td>\n",
       "      <td>6.06</td>\n",
       "      <td>Osuna, Roberto</td>\n",
       "      <td>595885</td>\n",
       "      <td>532077</td>\n",
       "      <td>NaN</td>\n",
       "      <td>...</td>\n",
       "      <td>2</td>\n",
       "      <td>2</td>\n",
       "      <td>1</td>\n",
       "      <td>1</td>\n",
       "      <td>2</td>\n",
       "      <td>Infield shift</td>\n",
       "      <td>Strategic</td>\n",
       "      <td>226.0</td>\n",
       "      <td>-0.044</td>\n",
       "      <td>0.020</td>\n",
       "    </tr>\n",
       "    <tr>\n",
       "      <th>4</th>\n",
       "      <td>2666</td>\n",
       "      <td>FT</td>\n",
       "      <td>2017-10-01</td>\n",
       "      <td>95.9</td>\n",
       "      <td>-0.89</td>\n",
       "      <td>6.13</td>\n",
       "      <td>Osuna, Roberto</td>\n",
       "      <td>595885</td>\n",
       "      <td>532077</td>\n",
       "      <td>NaN</td>\n",
       "      <td>...</td>\n",
       "      <td>2</td>\n",
       "      <td>2</td>\n",
       "      <td>1</td>\n",
       "      <td>1</td>\n",
       "      <td>2</td>\n",
       "      <td>Infield shift</td>\n",
       "      <td>Strategic</td>\n",
       "      <td>221.0</td>\n",
       "      <td>-0.044</td>\n",
       "      <td>0.014</td>\n",
       "    </tr>\n",
       "  </tbody>\n",
       "</table>\n",
       "<p>5 rows × 93 columns</p>\n",
       "</div>"
      ],
      "text/plain": [
       "   Unnamed: 0 pitch_type   game_date  release_speed  release_pos_x  \\\n",
       "0        2265         FC  2017-10-01           91.9          -1.19   \n",
       "1        2350         FC  2017-10-01           91.8          -1.08   \n",
       "2        2397         FF  2017-10-01           94.7          -0.62   \n",
       "3        2485         CH  2017-10-01           82.8          -0.99   \n",
       "4        2666         FT  2017-10-01           95.9          -0.89   \n",
       "\n",
       "   release_pos_z     player_name  batter  pitcher     events  ... fld_score  \\\n",
       "0           5.99  Osuna, Roberto  595885   532077  field_out  ...         2   \n",
       "1           6.18  Osuna, Roberto  595885   532077        NaN  ...         2   \n",
       "2           6.34  Osuna, Roberto  595885   532077        NaN  ...         2   \n",
       "3           6.06  Osuna, Roberto  595885   532077        NaN  ...         2   \n",
       "4           6.13  Osuna, Roberto  595885   532077        NaN  ...         2   \n",
       "\n",
       "   post_away_score  post_home_score  post_bat_score  post_fld_score  \\\n",
       "0                2                1               1               2   \n",
       "1                2                1               1               2   \n",
       "2                2                1               1               2   \n",
       "3                2                1               1               2   \n",
       "4                2                1               1               2   \n",
       "\n",
       "   if_fielding_alignment of_fielding_alignment spin_axis delta_home_win_exp  \\\n",
       "0          Infield shift             Strategic     183.0             -0.044   \n",
       "1          Infield shift             Strategic     164.0             -0.044   \n",
       "2          Infield shift             Strategic     189.0             -0.044   \n",
       "3          Infield shift             Strategic     226.0             -0.044   \n",
       "4          Infield shift             Strategic     221.0             -0.044   \n",
       "\n",
       "  delta_run_exp  \n",
       "0        -0.124  \n",
       "1        -0.035  \n",
       "2         0.038  \n",
       "3         0.020  \n",
       "4         0.014  \n",
       "\n",
       "[5 rows x 93 columns]"
      ]
     },
     "execution_count": 3,
     "metadata": {},
     "output_type": "execute_result"
    }
   ],
   "source": [
    "data_2017.head()"
   ]
  },
  {
   "cell_type": "code",
   "execution_count": 4,
   "id": "53ed786c",
   "metadata": {},
   "outputs": [
    {
     "data": {
      "text/plain": [
       "(721244, 93)"
      ]
     },
     "execution_count": 4,
     "metadata": {},
     "output_type": "execute_result"
    }
   ],
   "source": [
    "data_2017.shape"
   ]
  },
  {
   "cell_type": "code",
   "execution_count": 5,
   "id": "c54e2fee",
   "metadata": {},
   "outputs": [],
   "source": [
    "col_list = data_2017.columns"
   ]
  },
  {
   "cell_type": "code",
   "execution_count": 6,
   "id": "dbf82eed",
   "metadata": {},
   "outputs": [
    {
     "name": "stdout",
     "output_type": "stream",
     "text": [
      "(721190, 93)\n"
     ]
    },
    {
     "data": {
      "text/plain": [
       "True"
      ]
     },
     "execution_count": 6,
     "metadata": {},
     "output_type": "execute_result"
    }
   ],
   "source": [
    "print(data_2018.shape)\n",
    "\n",
    "all(data_2018.columns == col_list)"
   ]
  },
  {
   "cell_type": "code",
   "execution_count": 7,
   "id": "efc38f6a",
   "metadata": {},
   "outputs": [
    {
     "name": "stdout",
     "output_type": "stream",
     "text": [
      "(732473, 93)\n"
     ]
    },
    {
     "data": {
      "text/plain": [
       "True"
      ]
     },
     "execution_count": 7,
     "metadata": {},
     "output_type": "execute_result"
    }
   ],
   "source": [
    "print(data_2019.shape)\n",
    "all(data_2019.columns == col_list)"
   ]
  },
  {
   "cell_type": "code",
   "execution_count": 8,
   "id": "867d6a1c",
   "metadata": {},
   "outputs": [
    {
     "name": "stdout",
     "output_type": "stream",
     "text": [
      "(264747, 93)\n"
     ]
    },
    {
     "data": {
      "text/plain": [
       "True"
      ]
     },
     "execution_count": 8,
     "metadata": {},
     "output_type": "execute_result"
    }
   ],
   "source": [
    "print(data_2020.shape)\n",
    "all(data_2020.columns == col_list)"
   ]
  },
  {
   "cell_type": "code",
   "execution_count": 9,
   "id": "9876397b",
   "metadata": {},
   "outputs": [
    {
     "name": "stdout",
     "output_type": "stream",
     "text": [
      "(709851, 93)\n"
     ]
    },
    {
     "data": {
      "text/plain": [
       "True"
      ]
     },
     "execution_count": 9,
     "metadata": {},
     "output_type": "execute_result"
    }
   ],
   "source": [
    "print(data_2021.shape)\n",
    "all(data_2021.columns == col_list)"
   ]
  },
  {
   "cell_type": "markdown",
   "id": "5874c60a",
   "metadata": {},
   "source": [
    "So, we see all of the dataframes are similar enough.  I will now look to only capture the columns dealing with the pitch velocity, acceleration, and movement."
   ]
  },
  {
   "cell_type": "code",
   "execution_count": 10,
   "id": "2ac574a9",
   "metadata": {},
   "outputs": [
    {
     "data": {
      "text/plain": [
       "Index(['Unnamed: 0', 'pitch_type', 'game_date', 'release_speed',\n",
       "       'release_pos_x', 'release_pos_z', 'player_name', 'batter', 'pitcher',\n",
       "       'events', 'description', 'spin_dir', 'spin_rate_deprecated',\n",
       "       'break_angle_deprecated', 'break_length_deprecated', 'zone', 'des',\n",
       "       'game_type', 'stand', 'p_throws', 'home_team', 'away_team', 'type',\n",
       "       'hit_location', 'bb_type', 'balls', 'strikes', 'game_year', 'pfx_x',\n",
       "       'pfx_z', 'plate_x', 'plate_z', 'on_3b', 'on_2b', 'on_1b',\n",
       "       'outs_when_up', 'inning', 'inning_topbot', 'hc_x', 'hc_y',\n",
       "       'tfs_deprecated', 'tfs_zulu_deprecated', 'fielder_2', 'umpire', 'sv_id',\n",
       "       'vx0', 'vy0', 'vz0', 'ax', 'ay', 'az', 'sz_top', 'sz_bot',\n",
       "       'hit_distance_sc', 'launch_speed', 'launch_angle', 'effective_speed',\n",
       "       'release_spin_rate', 'release_extension', 'game_pk', 'pitcher.1',\n",
       "       'fielder_2.1', 'fielder_3', 'fielder_4', 'fielder_5', 'fielder_6',\n",
       "       'fielder_7', 'fielder_8', 'fielder_9', 'release_pos_y',\n",
       "       'estimated_ba_using_speedangle', 'estimated_woba_using_speedangle',\n",
       "       'woba_value', 'woba_denom', 'babip_value', 'iso_value',\n",
       "       'launch_speed_angle', 'at_bat_number', 'pitch_number', 'pitch_name',\n",
       "       'home_score', 'away_score', 'bat_score', 'fld_score', 'post_away_score',\n",
       "       'post_home_score', 'post_bat_score', 'post_fld_score',\n",
       "       'if_fielding_alignment', 'of_fielding_alignment', 'spin_axis',\n",
       "       'delta_home_win_exp', 'delta_run_exp'],\n",
       "      dtype='object')"
      ]
     },
     "execution_count": 10,
     "metadata": {},
     "output_type": "execute_result"
    }
   ],
   "source": [
    "col_list"
   ]
  },
  {
   "cell_type": "code",
   "execution_count": 11,
   "id": "2b7d5512",
   "metadata": {},
   "outputs": [],
   "source": [
    "pitch_cols = ['pitch_type','release_speed','release_pos_x', 'release_pos_z','zone',\n",
    "       'pfx_x','pfx_z', 'plate_x', 'plate_z', 'vx0', 'vy0', 'vz0', 'ax', 'ay', 'az', 'effective_speed',\n",
    "       'release_spin_rate', 'release_extension', 'release_pos_y','spin_axis']"
   ]
  },
  {
   "cell_type": "code",
   "execution_count": 12,
   "id": "626686e7",
   "metadata": {},
   "outputs": [],
   "source": [
    "data_2017 = data_2017[pitch_cols]\n",
    "data_2018 = data_2018[pitch_cols]\n",
    "data_2019 = data_2019[pitch_cols]\n",
    "data_2020 = data_2020[pitch_cols]\n",
    "data_2021 = data_2021[pitch_cols]\n"
   ]
  },
  {
   "cell_type": "markdown",
   "id": "3a9609c1",
   "metadata": {},
   "source": [
    "Combine the various annual dataframes into a single dataframe"
   ]
  },
  {
   "cell_type": "code",
   "execution_count": 13,
   "id": "70360102",
   "metadata": {},
   "outputs": [],
   "source": [
    "data = pd.concat([data_2017,data_2018,data_2019,data_2020,data_2021])\n",
    "data = data.reset_index(drop=True)"
   ]
  },
  {
   "cell_type": "code",
   "execution_count": 14,
   "id": "39ce6bc9",
   "metadata": {},
   "outputs": [
    {
     "data": {
      "text/plain": [
       "(3149505, 20)"
      ]
     },
     "execution_count": 14,
     "metadata": {},
     "output_type": "execute_result"
    }
   ],
   "source": [
    "data.shape"
   ]
  },
  {
   "cell_type": "code",
   "execution_count": 15,
   "id": "ed9e5bc2",
   "metadata": {},
   "outputs": [],
   "source": [
    "import matplotlib.pyplot as plt\n",
    "import seaborn as sns"
   ]
  },
  {
   "cell_type": "code",
   "execution_count": 16,
   "id": "3bffd7d4",
   "metadata": {},
   "outputs": [
    {
     "name": "stdout",
     "output_type": "stream",
     "text": [
      "<class 'pandas.core.frame.DataFrame'>\n",
      "RangeIndex: 3149505 entries, 0 to 3149504\n",
      "Data columns (total 20 columns):\n",
      " #   Column             Dtype  \n",
      "---  ------             -----  \n",
      " 0   pitch_type         object \n",
      " 1   release_speed      float64\n",
      " 2   release_pos_x      float64\n",
      " 3   release_pos_z      float64\n",
      " 4   zone               float64\n",
      " 5   pfx_x              float64\n",
      " 6   pfx_z              float64\n",
      " 7   plate_x            float64\n",
      " 8   plate_z            float64\n",
      " 9   vx0                float64\n",
      " 10  vy0                float64\n",
      " 11  vz0                float64\n",
      " 12  ax                 float64\n",
      " 13  ay                 float64\n",
      " 14  az                 float64\n",
      " 15  effective_speed    float64\n",
      " 16  release_spin_rate  float64\n",
      " 17  release_extension  float64\n",
      " 18  release_pos_y      float64\n",
      " 19  spin_axis          float64\n",
      "dtypes: float64(19), object(1)\n",
      "memory usage: 480.6+ MB\n"
     ]
    }
   ],
   "source": [
    "data.info()"
   ]
  },
  {
   "cell_type": "code",
   "execution_count": 17,
   "id": "494df808",
   "metadata": {},
   "outputs": [
    {
     "data": {
      "text/plain": [
       "FF    1104898\n",
       "SL     549279\n",
       "CH     338047\n",
       "SI     328958\n",
       "CU     262006\n",
       "FT     231239\n",
       "FC     190481\n",
       "KC      76605\n",
       "FS      47339\n",
       "KN       3628\n",
       "FA        783\n",
       "EP        520\n",
       "CS        489\n",
       "FO        370\n",
       "PO        205\n",
       "SC         77\n",
       "Name: pitch_type, dtype: int64"
      ]
     },
     "execution_count": 17,
     "metadata": {},
     "output_type": "execute_result"
    }
   ],
   "source": [
    "data['pitch_type'].value_counts()"
   ]
  },
  {
   "cell_type": "markdown",
   "id": "4e0bc67d",
   "metadata": {},
   "source": [
    "We can see the abbreviations for the different pitch types at the above website.  There have been over 15 different pitch types thrown to batters over the past 5 years.  Often, these pitches are coming at such a high speed that they are arriving to the plate in less than a half second.  There is no way the players are able to identify this many pitches!  So, I want to see how many different pitch types do they really need to be able to identify.  I will use a clustering method to solve this problem."
   ]
  },
  {
   "cell_type": "code",
   "execution_count": 17,
   "id": "90c984cb",
   "metadata": {},
   "outputs": [
    {
     "data": {
      "text/plain": [
       "pitch_type           0.004630\n",
       "release_speed        0.004730\n",
       "release_pos_x        0.004807\n",
       "release_pos_z        0.004807\n",
       "zone                 0.004741\n",
       "pfx_x                0.004741\n",
       "pfx_z                0.004741\n",
       "plate_x              0.004741\n",
       "plate_z              0.004741\n",
       "vx0                  0.004741\n",
       "vy0                  0.004741\n",
       "vz0                  0.004741\n",
       "ax                   0.004741\n",
       "ay                   0.004741\n",
       "az                   0.004741\n",
       "effective_speed      0.004225\n",
       "release_spin_rate    0.017652\n",
       "release_extension    0.005735\n",
       "release_pos_y        0.004807\n",
       "spin_axis            0.005667\n",
       "dtype: float64"
      ]
     },
     "execution_count": 17,
     "metadata": {},
     "output_type": "execute_result"
    }
   ],
   "source": [
    "data.isnull().sum()/data.shape[0]"
   ]
  },
  {
   "cell_type": "markdown",
   "id": "40c04d92",
   "metadata": {},
   "source": [
    "Very few observations are missing data so I will simply drop those"
   ]
  },
  {
   "cell_type": "code",
   "execution_count": 18,
   "id": "3fc937d9",
   "metadata": {},
   "outputs": [
    {
     "data": {
      "text/plain": [
       "pitch_type           0.0\n",
       "release_speed        0.0\n",
       "release_pos_x        0.0\n",
       "release_pos_z        0.0\n",
       "zone                 0.0\n",
       "pfx_x                0.0\n",
       "pfx_z                0.0\n",
       "plate_x              0.0\n",
       "plate_z              0.0\n",
       "vx0                  0.0\n",
       "vy0                  0.0\n",
       "vz0                  0.0\n",
       "ax                   0.0\n",
       "ay                   0.0\n",
       "az                   0.0\n",
       "effective_speed      0.0\n",
       "release_spin_rate    0.0\n",
       "release_extension    0.0\n",
       "release_pos_y        0.0\n",
       "spin_axis            0.0\n",
       "dtype: float64"
      ]
     },
     "execution_count": 18,
     "metadata": {},
     "output_type": "execute_result"
    }
   ],
   "source": [
    "data = data.dropna(axis=0)\n",
    "data.isnull().sum()/data.shape[0]"
   ]
  },
  {
   "cell_type": "code",
   "execution_count": 19,
   "id": "d2ddd58b",
   "metadata": {},
   "outputs": [
    {
     "data": {
      "text/plain": [
       "(3092788, 20)"
      ]
     },
     "execution_count": 19,
     "metadata": {},
     "output_type": "execute_result"
    }
   ],
   "source": [
    "data.shape"
   ]
  },
  {
   "cell_type": "code",
   "execution_count": 20,
   "id": "d13277c0",
   "metadata": {},
   "outputs": [
    {
     "data": {
      "text/plain": [
       "0"
      ]
     },
     "execution_count": 20,
     "metadata": {},
     "output_type": "execute_result"
    }
   ],
   "source": [
    "data.duplicated().sum()"
   ]
  },
  {
   "cell_type": "markdown",
   "id": "8085c693",
   "metadata": {},
   "source": [
    "The vast majority of pitches are fastballs, and there are certain pitch types that are thrown so rarely and are so distintly different from other pitches that we can safely remove them from the data set.  These are eephus pitches (very slow and high arcing, \"gimmick\" pitches), pitch outs (conceding a walk to a batter by throwing pitches out of the strike zone), etc.  I will remove these."
   ]
  },
  {
   "cell_type": "code",
   "execution_count": 21,
   "id": "63b7e5da",
   "metadata": {},
   "outputs": [
    {
     "data": {
      "text/plain": [
       "FF    0.356763\n",
       "SL    0.168637\n",
       "CH    0.108942\n",
       "SI    0.106111\n",
       "CU    0.083572\n",
       "FT    0.074713\n",
       "FC    0.060968\n",
       "KC    0.024636\n",
       "FS    0.014792\n",
       "FA    0.000250\n",
       "CS    0.000158\n",
       "EP    0.000148\n",
       "FO    0.000118\n",
       "KN    0.000100\n",
       "PO    0.000066\n",
       "SC    0.000025\n",
       "Name: pitch_type, dtype: float64"
      ]
     },
     "execution_count": 21,
     "metadata": {},
     "output_type": "execute_result"
    }
   ],
   "source": [
    "data['pitch_type'].value_counts()/data.shape[0]"
   ]
  },
  {
   "cell_type": "code",
   "execution_count": 22,
   "id": "fc8b43d9",
   "metadata": {},
   "outputs": [],
   "source": [
    "drop_types = ['EP','FO','KN','PO','CS','SC','FA']\n",
    "\n",
    "data = data[~data['pitch_type'].isin(drop_types)]"
   ]
  },
  {
   "cell_type": "code",
   "execution_count": 23,
   "id": "47833d1e",
   "metadata": {},
   "outputs": [
    {
     "data": {
      "text/plain": [
       "FF    0.357072\n",
       "SL    0.168783\n",
       "CH    0.109037\n",
       "SI    0.106203\n",
       "CU    0.083645\n",
       "FT    0.074778\n",
       "FC    0.061021\n",
       "KC    0.024657\n",
       "FS    0.014804\n",
       "Name: pitch_type, dtype: float64"
      ]
     },
     "execution_count": 23,
     "metadata": {},
     "output_type": "execute_result"
    }
   ],
   "source": [
    "data['pitch_type'].value_counts()/data.shape[0]"
   ]
  },
  {
   "cell_type": "markdown",
   "id": "c6df0478",
   "metadata": {},
   "source": [
    "Separating the pitch types from the rest of the data, we can look for correlations amongst the numerical variables as well as look for outliers.  The \"pitch type\" is similar to our target variable and we can see how well clustering does to identify the different pitches according to statcasts classifications."
   ]
  },
  {
   "cell_type": "code",
   "execution_count": 24,
   "id": "febb07cc",
   "metadata": {},
   "outputs": [],
   "source": [
    "data_Y = data[['pitch_type']]\n",
    "data_X =  data.drop(['pitch_type'],axis=1)"
   ]
  },
  {
   "cell_type": "code",
   "execution_count": 25,
   "id": "f0cf7854",
   "metadata": {},
   "outputs": [
    {
     "data": {
      "text/plain": [
       "<AxesSubplot:>"
      ]
     },
     "execution_count": 25,
     "metadata": {},
     "output_type": "execute_result"
    },
    {
     "data": {
      "image/png": "[encoded data removed]",
      "text/plain": [
       "<Figure size 432x288 with 2 Axes>"
      ]
     },
     "metadata": {
      "needs_background": "light"
     },
     "output_type": "display_data"
    }
   ],
   "source": [
    "sns.heatmap(data_X.corr())"
   ]
  },
  {
   "cell_type": "code",
   "execution_count": 26,
   "id": "4eddc0c6",
   "metadata": {},
   "outputs": [
    {
     "data": {
      "text/html": [
       "<div>\n",
       "<style scoped>\n",
       "    .dataframe tbody tr th:only-of-type {\n",
       "        vertical-align: middle;\n",
       "    }\n",
       "\n",
       "    .dataframe tbody tr th {\n",
       "        vertical-align: top;\n",
       "    }\n",
       "\n",
       "    .dataframe thead th {\n",
       "        text-align: right;\n",
       "    }\n",
       "</style>\n",
       "<table border=\"1\" class=\"dataframe\">\n",
       "  <thead>\n",
       "    <tr style=\"text-align: right;\">\n",
       "      <th></th>\n",
       "      <th>release_speed</th>\n",
       "      <th>release_pos_x</th>\n",
       "      <th>release_pos_z</th>\n",
       "      <th>zone</th>\n",
       "      <th>pfx_x</th>\n",
       "      <th>pfx_z</th>\n",
       "      <th>plate_x</th>\n",
       "      <th>plate_z</th>\n",
       "      <th>vx0</th>\n",
       "      <th>vy0</th>\n",
       "      <th>vz0</th>\n",
       "      <th>ax</th>\n",
       "      <th>ay</th>\n",
       "      <th>az</th>\n",
       "      <th>effective_speed</th>\n",
       "      <th>release_spin_rate</th>\n",
       "      <th>release_extension</th>\n",
       "      <th>release_pos_y</th>\n",
       "      <th>spin_axis</th>\n",
       "    </tr>\n",
       "  </thead>\n",
       "  <tbody>\n",
       "    <tr>\n",
       "      <th>release_speed</th>\n",
       "      <td>1.000000</td>\n",
       "      <td>-0.109629</td>\n",
       "      <td>0.056283</td>\n",
       "      <td>-0.145609</td>\n",
       "      <td>-0.285244</td>\n",
       "      <td>0.731104</td>\n",
       "      <td>-0.040113</td>\n",
       "      <td>0.276713</td>\n",
       "      <td>0.180952</td>\n",
       "      <td>-0.999649</td>\n",
       "      <td>-0.534292</td>\n",
       "      <td>-0.298938</td>\n",
       "      <td>0.816556</td>\n",
       "      <td>0.783399</td>\n",
       "      <td>0.989629</td>\n",
       "      <td>-0.015096</td>\n",
       "      <td>0.255028</td>\n",
       "      <td>-0.255576</td>\n",
       "      <td>0.267916</td>\n",
       "    </tr>\n",
       "    <tr>\n",
       "      <th>release_pos_x</th>\n",
       "      <td>-0.109629</td>\n",
       "      <td>1.000000</td>\n",
       "      <td>0.089213</td>\n",
       "      <td>0.002753</td>\n",
       "      <td>0.421356</td>\n",
       "      <td>0.022886</td>\n",
       "      <td>0.001281</td>\n",
       "      <td>0.000755</td>\n",
       "      <td>-0.914876</td>\n",
       "      <td>0.110570</td>\n",
       "      <td>-0.005210</td>\n",
       "      <td>0.541285</td>\n",
       "      <td>-0.085945</td>\n",
       "      <td>0.007730</td>\n",
       "      <td>-0.113356</td>\n",
       "      <td>-0.089303</td>\n",
       "      <td>-0.054308</td>\n",
       "      <td>0.054423</td>\n",
       "      <td>-0.060560</td>\n",
       "    </tr>\n",
       "    <tr>\n",
       "      <th>release_pos_z</th>\n",
       "      <td>0.056283</td>\n",
       "      <td>0.089213</td>\n",
       "      <td>1.000000</td>\n",
       "      <td>-0.022430</td>\n",
       "      <td>0.030647</td>\n",
       "      <td>0.122863</td>\n",
       "      <td>0.001717</td>\n",
       "      <td>0.049038</td>\n",
       "      <td>-0.077428</td>\n",
       "      <td>-0.057409</td>\n",
       "      <td>-0.444504</td>\n",
       "      <td>0.042355</td>\n",
       "      <td>0.047933</td>\n",
       "      <td>0.162949</td>\n",
       "      <td>0.038589</td>\n",
       "      <td>-0.004665</td>\n",
       "      <td>-0.127554</td>\n",
       "      <td>0.127769</td>\n",
       "      <td>-0.047309</td>\n",
       "    </tr>\n",
       "    <tr>\n",
       "      <th>zone</th>\n",
       "      <td>-0.145609</td>\n",
       "      <td>0.002753</td>\n",
       "      <td>-0.022430</td>\n",
       "      <td>1.000000</td>\n",
       "      <td>0.055056</td>\n",
       "      <td>-0.163198</td>\n",
       "      <td>0.177708</td>\n",
       "      <td>-0.406279</td>\n",
       "      <td>0.038837</td>\n",
       "      <td>0.149787</td>\n",
       "      <td>-0.158518</td>\n",
       "      <td>0.048307</td>\n",
       "      <td>-0.124202</td>\n",
       "      <td>-0.157820</td>\n",
       "      <td>-0.146830</td>\n",
       "      <td>-0.011623</td>\n",
       "      <td>-0.024182</td>\n",
       "      <td>0.024213</td>\n",
       "      <td>-0.056720</td>\n",
       "    </tr>\n",
       "    <tr>\n",
       "      <th>pfx_x</th>\n",
       "      <td>-0.285244</td>\n",
       "      <td>0.421356</td>\n",
       "      <td>0.030647</td>\n",
       "      <td>0.055056</td>\n",
       "      <td>1.000000</td>\n",
       "      <td>-0.216292</td>\n",
       "      <td>0.237308</td>\n",
       "      <td>-0.054967</td>\n",
       "      <td>-0.576369</td>\n",
       "      <td>0.284167</td>\n",
       "      <td>0.153499</td>\n",
       "      <td>0.981782</td>\n",
       "      <td>-0.235767</td>\n",
       "      <td>-0.228805</td>\n",
       "      <td>-0.284297</td>\n",
       "      <td>0.200771</td>\n",
       "      <td>-0.091769</td>\n",
       "      <td>0.091877</td>\n",
       "      <td>-0.772491</td>\n",
       "    </tr>\n",
       "    <tr>\n",
       "      <th>pfx_z</th>\n",
       "      <td>0.731104</td>\n",
       "      <td>0.022886</td>\n",
       "      <td>0.122863</td>\n",
       "      <td>-0.163198</td>\n",
       "      <td>-0.216292</td>\n",
       "      <td>1.000000</td>\n",
       "      <td>-0.041556</td>\n",
       "      <td>0.333635</td>\n",
       "      <td>0.048788</td>\n",
       "      <td>-0.728475</td>\n",
       "      <td>-0.553813</td>\n",
       "      <td>-0.203222</td>\n",
       "      <td>0.599470</td>\n",
       "      <td>0.985649</td>\n",
       "      <td>0.726808</td>\n",
       "      <td>-0.178527</td>\n",
       "      <td>0.229262</td>\n",
       "      <td>-0.229958</td>\n",
       "      <td>0.294596</td>\n",
       "    </tr>\n",
       "    <tr>\n",
       "      <th>plate_x</th>\n",
       "      <td>-0.040113</td>\n",
       "      <td>0.001281</td>\n",
       "      <td>0.001717</td>\n",
       "      <td>0.177708</td>\n",
       "      <td>0.237308</td>\n",
       "      <td>-0.041556</td>\n",
       "      <td>1.000000</td>\n",
       "      <td>-0.155766</td>\n",
       "      <td>0.271222</td>\n",
       "      <td>0.043728</td>\n",
       "      <td>-0.082801</td>\n",
       "      <td>0.180802</td>\n",
       "      <td>-0.051554</td>\n",
       "      <td>-0.037396</td>\n",
       "      <td>-0.040512</td>\n",
       "      <td>0.103347</td>\n",
       "      <td>0.001796</td>\n",
       "      <td>-0.001807</td>\n",
       "      <td>-0.207242</td>\n",
       "    </tr>\n",
       "    <tr>\n",
       "      <th>plate_z</th>\n",
       "      <td>0.276713</td>\n",
       "      <td>0.000755</td>\n",
       "      <td>0.049038</td>\n",
       "      <td>-0.406279</td>\n",
       "      <td>-0.054967</td>\n",
       "      <td>0.333635</td>\n",
       "      <td>-0.155766</td>\n",
       "      <td>1.000000</td>\n",
       "      <td>-0.031175</td>\n",
       "      <td>-0.284124</td>\n",
       "      <td>0.468488</td>\n",
       "      <td>-0.051392</td>\n",
       "      <td>0.250018</td>\n",
       "      <td>0.306314</td>\n",
       "      <td>0.276038</td>\n",
       "      <td>0.005677</td>\n",
       "      <td>0.036580</td>\n",
       "      <td>-0.036671</td>\n",
       "      <td>0.077195</td>\n",
       "    </tr>\n",
       "    <tr>\n",
       "      <th>vx0</th>\n",
       "      <td>0.180952</td>\n",
       "      <td>-0.914876</td>\n",
       "      <td>-0.077428</td>\n",
       "      <td>0.038837</td>\n",
       "      <td>-0.576369</td>\n",
       "      <td>0.048788</td>\n",
       "      <td>0.271222</td>\n",
       "      <td>-0.031175</td>\n",
       "      <td>1.000000</td>\n",
       "      <td>-0.180076</td>\n",
       "      <td>-0.082439</td>\n",
       "      <td>-0.687228</td>\n",
       "      <td>0.140729</td>\n",
       "      <td>0.068429</td>\n",
       "      <td>0.183842</td>\n",
       "      <td>0.046356</td>\n",
       "      <td>0.081871</td>\n",
       "      <td>-0.082019</td>\n",
       "      <td>0.235681</td>\n",
       "    </tr>\n",
       "    <tr>\n",
       "      <th>vy0</th>\n",
       "      <td>-0.999649</td>\n",
       "      <td>0.110570</td>\n",
       "      <td>-0.057409</td>\n",
       "      <td>0.149787</td>\n",
       "      <td>0.284167</td>\n",
       "      <td>-0.728475</td>\n",
       "      <td>0.043728</td>\n",
       "      <td>-0.284124</td>\n",
       "      <td>-0.180076</td>\n",
       "      <td>1.000000</td>\n",
       "      <td>0.527955</td>\n",
       "      <td>0.297840</td>\n",
       "      <td>-0.811969</td>\n",
       "      <td>-0.780525</td>\n",
       "      <td>-0.991250</td>\n",
       "      <td>0.014604</td>\n",
       "      <td>-0.262024</td>\n",
       "      <td>0.262575</td>\n",
       "      <td>-0.266332</td>\n",
       "    </tr>\n",
       "    <tr>\n",
       "      <th>vz0</th>\n",
       "      <td>-0.534292</td>\n",
       "      <td>-0.005210</td>\n",
       "      <td>-0.444504</td>\n",
       "      <td>-0.158518</td>\n",
       "      <td>0.153499</td>\n",
       "      <td>-0.553813</td>\n",
       "      <td>-0.082801</td>\n",
       "      <td>0.468488</td>\n",
       "      <td>-0.082439</td>\n",
       "      <td>0.527955</td>\n",
       "      <td>1.000000</td>\n",
       "      <td>0.150405</td>\n",
       "      <td>-0.412262</td>\n",
       "      <td>-0.604953</td>\n",
       "      <td>-0.525058</td>\n",
       "      <td>0.095367</td>\n",
       "      <td>-0.143168</td>\n",
       "      <td>0.143577</td>\n",
       "      <td>-0.162451</td>\n",
       "    </tr>\n",
       "    <tr>\n",
       "      <th>ax</th>\n",
       "      <td>-0.298938</td>\n",
       "      <td>0.541285</td>\n",
       "      <td>0.042355</td>\n",
       "      <td>0.048307</td>\n",
       "      <td>0.981782</td>\n",
       "      <td>-0.203222</td>\n",
       "      <td>0.180802</td>\n",
       "      <td>-0.051392</td>\n",
       "      <td>-0.687228</td>\n",
       "      <td>0.297840</td>\n",
       "      <td>0.150405</td>\n",
       "      <td>1.000000</td>\n",
       "      <td>-0.256353</td>\n",
       "      <td>-0.221808</td>\n",
       "      <td>-0.298060</td>\n",
       "      <td>0.157099</td>\n",
       "      <td>-0.102344</td>\n",
       "      <td>0.102480</td>\n",
       "      <td>-0.703566</td>\n",
       "    </tr>\n",
       "    <tr>\n",
       "      <th>ay</th>\n",
       "      <td>0.816556</td>\n",
       "      <td>-0.085945</td>\n",
       "      <td>0.047933</td>\n",
       "      <td>-0.124202</td>\n",
       "      <td>-0.235767</td>\n",
       "      <td>0.599470</td>\n",
       "      <td>-0.051554</td>\n",
       "      <td>0.250018</td>\n",
       "      <td>0.140729</td>\n",
       "      <td>-0.811969</td>\n",
       "      <td>-0.412262</td>\n",
       "      <td>-0.256353</td>\n",
       "      <td>1.000000</td>\n",
       "      <td>0.665114</td>\n",
       "      <td>0.781009</td>\n",
       "      <td>0.059975</td>\n",
       "      <td>0.240015</td>\n",
       "      <td>-0.240533</td>\n",
       "      <td>0.201003</td>\n",
       "    </tr>\n",
       "    <tr>\n",
       "      <th>az</th>\n",
       "      <td>0.783399</td>\n",
       "      <td>0.007730</td>\n",
       "      <td>0.162949</td>\n",
       "      <td>-0.157820</td>\n",
       "      <td>-0.228805</td>\n",
       "      <td>0.985649</td>\n",
       "      <td>-0.037396</td>\n",
       "      <td>0.306314</td>\n",
       "      <td>0.068429</td>\n",
       "      <td>-0.780525</td>\n",
       "      <td>-0.604953</td>\n",
       "      <td>-0.221808</td>\n",
       "      <td>0.665114</td>\n",
       "      <td>1.000000</td>\n",
       "      <td>0.778317</td>\n",
       "      <td>-0.122356</td>\n",
       "      <td>0.253628</td>\n",
       "      <td>-0.254361</td>\n",
       "      <td>0.292002</td>\n",
       "    </tr>\n",
       "    <tr>\n",
       "      <th>effective_speed</th>\n",
       "      <td>0.989629</td>\n",
       "      <td>-0.113356</td>\n",
       "      <td>0.038589</td>\n",
       "      <td>-0.146830</td>\n",
       "      <td>-0.284297</td>\n",
       "      <td>0.726808</td>\n",
       "      <td>-0.040512</td>\n",
       "      <td>0.276038</td>\n",
       "      <td>0.183842</td>\n",
       "      <td>-0.991250</td>\n",
       "      <td>-0.525058</td>\n",
       "      <td>-0.298060</td>\n",
       "      <td>0.781009</td>\n",
       "      <td>0.778317</td>\n",
       "      <td>1.000000</td>\n",
       "      <td>-0.034799</td>\n",
       "      <td>0.377856</td>\n",
       "      <td>-0.378604</td>\n",
       "      <td>0.267377</td>\n",
       "    </tr>\n",
       "    <tr>\n",
       "      <th>release_spin_rate</th>\n",
       "      <td>-0.015096</td>\n",
       "      <td>-0.089303</td>\n",
       "      <td>-0.004665</td>\n",
       "      <td>-0.011623</td>\n",
       "      <td>0.200771</td>\n",
       "      <td>-0.178527</td>\n",
       "      <td>0.103347</td>\n",
       "      <td>0.005677</td>\n",
       "      <td>0.046356</td>\n",
       "      <td>0.014604</td>\n",
       "      <td>0.095367</td>\n",
       "      <td>0.157099</td>\n",
       "      <td>0.059975</td>\n",
       "      <td>-0.122356</td>\n",
       "      <td>-0.034799</td>\n",
       "      <td>1.000000</td>\n",
       "      <td>-0.121635</td>\n",
       "      <td>0.121899</td>\n",
       "      <td>-0.260813</td>\n",
       "    </tr>\n",
       "    <tr>\n",
       "      <th>release_extension</th>\n",
       "      <td>0.255028</td>\n",
       "      <td>-0.054308</td>\n",
       "      <td>-0.127554</td>\n",
       "      <td>-0.024182</td>\n",
       "      <td>-0.091769</td>\n",
       "      <td>0.229262</td>\n",
       "      <td>0.001796</td>\n",
       "      <td>0.036580</td>\n",
       "      <td>0.081871</td>\n",
       "      <td>-0.262024</td>\n",
       "      <td>-0.143168</td>\n",
       "      <td>-0.102344</td>\n",
       "      <td>0.240015</td>\n",
       "      <td>0.253628</td>\n",
       "      <td>0.377856</td>\n",
       "      <td>-0.121635</td>\n",
       "      <td>1.000000</td>\n",
       "      <td>-0.998232</td>\n",
       "      <td>0.080286</td>\n",
       "    </tr>\n",
       "    <tr>\n",
       "      <th>release_pos_y</th>\n",
       "      <td>-0.255576</td>\n",
       "      <td>0.054423</td>\n",
       "      <td>0.127769</td>\n",
       "      <td>0.024213</td>\n",
       "      <td>0.091877</td>\n",
       "      <td>-0.229958</td>\n",
       "      <td>-0.001807</td>\n",
       "      <td>-0.036671</td>\n",
       "      <td>-0.082019</td>\n",
       "      <td>0.262575</td>\n",
       "      <td>0.143577</td>\n",
       "      <td>0.102480</td>\n",
       "      <td>-0.240533</td>\n",
       "      <td>-0.254361</td>\n",
       "      <td>-0.378604</td>\n",
       "      <td>0.121899</td>\n",
       "      <td>-0.998232</td>\n",
       "      <td>1.000000</td>\n",
       "      <td>-0.080513</td>\n",
       "    </tr>\n",
       "    <tr>\n",
       "      <th>spin_axis</th>\n",
       "      <td>0.267916</td>\n",
       "      <td>-0.060560</td>\n",
       "      <td>-0.047309</td>\n",
       "      <td>-0.056720</td>\n",
       "      <td>-0.772491</td>\n",
       "      <td>0.294596</td>\n",
       "      <td>-0.207242</td>\n",
       "      <td>0.077195</td>\n",
       "      <td>0.235681</td>\n",
       "      <td>-0.266332</td>\n",
       "      <td>-0.162451</td>\n",
       "      <td>-0.703566</td>\n",
       "      <td>0.201003</td>\n",
       "      <td>0.292002</td>\n",
       "      <td>0.267377</td>\n",
       "      <td>-0.260813</td>\n",
       "      <td>0.080286</td>\n",
       "      <td>-0.080513</td>\n",
       "      <td>1.000000</td>\n",
       "    </tr>\n",
       "  </tbody>\n",
       "</table>\n",
       "</div>"
      ],
      "text/plain": [
       "                   release_speed  release_pos_x  release_pos_z      zone  \\\n",
       "release_speed           1.000000      -0.109629       0.056283 -0.145609   \n",
       "release_pos_x          -0.109629       1.000000       0.089213  0.002753   \n",
       "release_pos_z           0.056283       0.089213       1.000000 -0.022430   \n",
       "zone                   -0.145609       0.002753      -0.022430  1.000000   \n",
       "pfx_x                  -0.285244       0.421356       0.030647  0.055056   \n",
       "pfx_z                   0.731104       0.022886       0.122863 -0.163198   \n",
       "plate_x                -0.040113       0.001281       0.001717  0.177708   \n",
       "plate_z                 0.276713       0.000755       0.049038 -0.406279   \n",
       "vx0                     0.180952      -0.914876      -0.077428  0.038837   \n",
       "vy0                    -0.999649       0.110570      -0.057409  0.149787   \n",
       "vz0                    -0.534292      -0.005210      -0.444504 -0.158518   \n",
       "ax                     -0.298938       0.541285       0.042355  0.048307   \n",
       "ay                      0.816556      -0.085945       0.047933 -0.124202   \n",
       "az                      0.783399       0.007730       0.162949 -0.157820   \n",
       "effective_speed         0.989629      -0.113356       0.038589 -0.146830   \n",
       "release_spin_rate      -0.015096      -0.089303      -0.004665 -0.011623   \n",
       "release_extension       0.255028      -0.054308      -0.127554 -0.024182   \n",
       "release_pos_y          -0.255576       0.054423       0.127769  0.024213   \n",
       "spin_axis               0.267916      -0.060560      -0.047309 -0.056720   \n",
       "\n",
       "                      pfx_x     pfx_z   plate_x   plate_z       vx0       vy0  \\\n",
       "release_speed     -0.285244  0.731104 -0.040113  0.276713  0.180952 -0.999649   \n",
       "release_pos_x      0.421356  0.022886  0.001281  0.000755 -0.914876  0.110570   \n",
       "release_pos_z      0.030647  0.122863  0.001717  0.049038 -0.077428 -0.057409   \n",
       "zone               0.055056 -0.163198  0.177708 -0.406279  0.038837  0.149787   \n",
       "pfx_x              1.000000 -0.216292  0.237308 -0.054967 -0.576369  0.284167   \n",
       "pfx_z             -0.216292  1.000000 -0.041556  0.333635  0.048788 -0.728475   \n",
       "plate_x            0.237308 -0.041556  1.000000 -0.155766  0.271222  0.043728   \n",
       "plate_z           -0.054967  0.333635 -0.155766  1.000000 -0.031175 -0.284124   \n",
       "vx0               -0.576369  0.048788  0.271222 -0.031175  1.000000 -0.180076   \n",
       "vy0                0.284167 -0.728475  0.043728 -0.284124 -0.180076  1.000000   \n",
       "vz0                0.153499 -0.553813 -0.082801  0.468488 -0.082439  0.527955   \n",
       "ax                 0.981782 -0.203222  0.180802 -0.051392 -0.687228  0.297840   \n",
       "ay                -0.235767  0.599470 -0.051554  0.250018  0.140729 -0.811969   \n",
       "az                -0.228805  0.985649 -0.037396  0.306314  0.068429 -0.780525   \n",
       "effective_speed   -0.284297  0.726808 -0.040512  0.276038  0.183842 -0.991250   \n",
       "release_spin_rate  0.200771 -0.178527  0.103347  0.005677  0.046356  0.014604   \n",
       "release_extension -0.091769  0.229262  0.001796  0.036580  0.081871 -0.262024   \n",
       "release_pos_y      0.091877 -0.229958 -0.001807 -0.036671 -0.082019  0.262575   \n",
       "spin_axis         -0.772491  0.294596 -0.207242  0.077195  0.235681 -0.266332   \n",
       "\n",
       "                        vz0        ax        ay        az  effective_speed  \\\n",
       "release_speed     -0.534292 -0.298938  0.816556  0.783399         0.989629   \n",
       "release_pos_x     -0.005210  0.541285 -0.085945  0.007730        -0.113356   \n",
       "release_pos_z     -0.444504  0.042355  0.047933  0.162949         0.038589   \n",
       "zone              -0.158518  0.048307 -0.124202 -0.157820        -0.146830   \n",
       "pfx_x              0.153499  0.981782 -0.235767 -0.228805        -0.284297   \n",
       "pfx_z             -0.553813 -0.203222  0.599470  0.985649         0.726808   \n",
       "plate_x           -0.082801  0.180802 -0.051554 -0.037396        -0.040512   \n",
       "plate_z            0.468488 -0.051392  0.250018  0.306314         0.276038   \n",
       "vx0               -0.082439 -0.687228  0.140729  0.068429         0.183842   \n",
       "vy0                0.527955  0.297840 -0.811969 -0.780525        -0.991250   \n",
       "vz0                1.000000  0.150405 -0.412262 -0.604953        -0.525058   \n",
       "ax                 0.150405  1.000000 -0.256353 -0.221808        -0.298060   \n",
       "ay                -0.412262 -0.256353  1.000000  0.665114         0.781009   \n",
       "az                -0.604953 -0.221808  0.665114  1.000000         0.778317   \n",
       "effective_speed   -0.525058 -0.298060  0.781009  0.778317         1.000000   \n",
       "release_spin_rate  0.095367  0.157099  0.059975 -0.122356        -0.034799   \n",
       "release_extension -0.143168 -0.102344  0.240015  0.253628         0.377856   \n",
       "release_pos_y      0.143577  0.102480 -0.240533 -0.254361        -0.378604   \n",
       "spin_axis         -0.162451 -0.703566  0.201003  0.292002         0.267377   \n",
       "\n",
       "                   release_spin_rate  release_extension  release_pos_y  \\\n",
       "release_speed              -0.015096           0.255028      -0.255576   \n",
       "release_pos_x              -0.089303          -0.054308       0.054423   \n",
       "release_pos_z              -0.004665          -0.127554       0.127769   \n",
       "zone                       -0.011623          -0.024182       0.024213   \n",
       "pfx_x                       0.200771          -0.091769       0.091877   \n",
       "pfx_z                      -0.178527           0.229262      -0.229958   \n",
       "plate_x                     0.103347           0.001796      -0.001807   \n",
       "plate_z                     0.005677           0.036580      -0.036671   \n",
       "vx0                         0.046356           0.081871      -0.082019   \n",
       "vy0                         0.014604          -0.262024       0.262575   \n",
       "vz0                         0.095367          -0.143168       0.143577   \n",
       "ax                          0.157099          -0.102344       0.102480   \n",
       "ay                          0.059975           0.240015      -0.240533   \n",
       "az                         -0.122356           0.253628      -0.254361   \n",
       "effective_speed            -0.034799           0.377856      -0.378604   \n",
       "release_spin_rate           1.000000          -0.121635       0.121899   \n",
       "release_extension          -0.121635           1.000000      -0.998232   \n",
       "release_pos_y               0.121899          -0.998232       1.000000   \n",
       "spin_axis                  -0.260813           0.080286      -0.080513   \n",
       "\n",
       "                   spin_axis  \n",
       "release_speed       0.267916  \n",
       "release_pos_x      -0.060560  \n",
       "release_pos_z      -0.047309  \n",
       "zone               -0.056720  \n",
       "pfx_x              -0.772491  \n",
       "pfx_z               0.294596  \n",
       "plate_x            -0.207242  \n",
       "plate_z             0.077195  \n",
       "vx0                 0.235681  \n",
       "vy0                -0.266332  \n",
       "vz0                -0.162451  \n",
       "ax                 -0.703566  \n",
       "ay                  0.201003  \n",
       "az                  0.292002  \n",
       "effective_speed     0.267377  \n",
       "release_spin_rate  -0.260813  \n",
       "release_extension   0.080286  \n",
       "release_pos_y      -0.080513  \n",
       "spin_axis           1.000000  "
      ]
     },
     "execution_count": 26,
     "metadata": {},
     "output_type": "execute_result"
    }
   ],
   "source": [
    "data_X.corr()"
   ]
  },
  {
   "cell_type": "code",
   "execution_count": 27,
   "id": "e481a0a8",
   "metadata": {},
   "outputs": [
    {
     "data": {
      "image/png": "[encoded data removed]",
      "text/plain": [
       "<Figure size 864x864 with 20 Axes>"
      ]
     },
     "metadata": {
      "needs_background": "light"
     },
     "output_type": "display_data"
    }
   ],
   "source": [
    "hist = data_X.hist(bins=25,figsize=(12,12))"
   ]
  },
  {
   "cell_type": "markdown",
   "id": "7b45937e",
   "metadata": {},
   "source": [
    "There are no outliers but there are several highly correlated variables.  I will leave these variables in as I plan to use PCA which should be robust to these highly correlated variables, but initially I will look at a straight k-means classification on the data before doing any dimension reduction techniques to demonstrate how poor the classification would be without them."
   ]
  },
  {
   "cell_type": "markdown",
   "id": "dd2f65e4",
   "metadata": {},
   "source": [
    "## Base K-Means Model"
   ]
  },
  {
   "cell_type": "code",
   "execution_count": 28,
   "id": "6f9e3ef6",
   "metadata": {},
   "outputs": [],
   "source": [
    "from sklearn.preprocessing import StandardScaler"
   ]
  },
  {
   "cell_type": "code",
   "execution_count": 29,
   "id": "cbe6e725",
   "metadata": {},
   "outputs": [],
   "source": [
    "standard_scaler = StandardScaler()\n",
    "scaled = standard_scaler.fit_transform(data_X)"
   ]
  },
  {
   "cell_type": "code",
   "execution_count": 30,
   "id": "09321eb0",
   "metadata": {},
   "outputs": [],
   "source": [
    "from sklearn.cluster import KMeans\n",
    "\n",
    "kmeans = KMeans(max_iter=5000, n_clusters=9, n_init=25,random_state=42).fit(data_X)"
   ]
  },
  {
   "cell_type": "code",
   "execution_count": 31,
   "id": "9c2e8706",
   "metadata": {},
   "outputs": [],
   "source": [
    "init_preds = kmeans.predict(data_X)"
   ]
  },
  {
   "cell_type": "code",
   "execution_count": 32,
   "id": "0b0eda5e",
   "metadata": {},
   "outputs": [],
   "source": [
    "unique, counts = np.unique(init_preds, return_counts=True)"
   ]
  },
  {
   "cell_type": "code",
   "execution_count": 33,
   "id": "3b808deb",
   "metadata": {},
   "outputs": [
    {
     "data": {
      "text/plain": [
       "array([0, 1, 2, 3, 4, 5, 6, 7, 8])"
      ]
     },
     "execution_count": 33,
     "metadata": {},
     "output_type": "execute_result"
    }
   ],
   "source": [
    "unique"
   ]
  },
  {
   "cell_type": "code",
   "execution_count": 34,
   "id": "6a721125",
   "metadata": {},
   "outputs": [
    {
     "data": {
      "text/plain": [
       "array([460383, 511075,  43452, 688270, 101364, 271444, 670351, 142047,\n",
       "       201726], dtype=int64)"
      ]
     },
     "execution_count": 34,
     "metadata": {},
     "output_type": "execute_result"
    }
   ],
   "source": [
    "counts"
   ]
  },
  {
   "cell_type": "code",
   "execution_count": 35,
   "id": "dadf46dd",
   "metadata": {},
   "outputs": [],
   "source": [
    "training_groups = pd.DataFrame(data=init_preds,columns=['Preds'])"
   ]
  },
  {
   "cell_type": "code",
   "execution_count": 36,
   "id": "dc4d6b6e",
   "metadata": {},
   "outputs": [],
   "source": [
    "training_groups['True']=data_Y"
   ]
  },
  {
   "cell_type": "code",
   "execution_count": 37,
   "id": "95fe0d71",
   "metadata": {},
   "outputs": [
    {
     "data": {
      "text/plain": [
       "FF3    241630\n",
       "FF6    234239\n",
       "FF1    179927\n",
       "FF0    160801\n",
       "SL3    113719\n",
       "        ...  \n",
       "KC4      2432\n",
       "FS7      1994\n",
       "FS4      1459\n",
       "KC2      1011\n",
       "FS2       654\n",
       "Name: Combined, Length: 81, dtype: int64"
      ]
     },
     "execution_count": 37,
     "metadata": {},
     "output_type": "execute_result"
    }
   ],
   "source": [
    "training_groups['Combined']=training_groups['True']+training_groups['Preds'].astype(str)\n",
    "\n",
    "training_groups['Combined'].value_counts()"
   ]
  },
  {
   "cell_type": "code",
   "execution_count": 38,
   "id": "095821be",
   "metadata": {},
   "outputs": [
    {
     "data": {
      "text/plain": [
       "FF3    241630\n",
       "FF6    234239\n",
       "FF1    179927\n",
       "FF0    160801\n",
       "SL3    113719\n",
       "SL6    109637\n",
       "FF5     95059\n",
       "SL1     84830\n",
       "SL0     75630\n",
       "CH3     73825\n",
       "CH6     71870\n",
       "SI3     70567\n",
       "FF8     70445\n",
       "SI6     68574\n",
       "CU3     56087\n",
       "CU6     55316\n",
       "CH1     54271\n",
       "FT3     52315\n",
       "SI1     52300\n",
       "FT6     51433\n",
       "Name: Combined, dtype: int64"
      ]
     },
     "execution_count": 38,
     "metadata": {},
     "output_type": "execute_result"
    }
   ],
   "source": [
    "training_groups['Combined'].value_counts().head(20)"
   ]
  },
  {
   "cell_type": "markdown",
   "id": "446a402c",
   "metadata": {},
   "source": [
    "Using just K-Means without reducing dimensions first and attempting to find 9 different clusters (based on the 9 different pitch types we have in our data) we find the clusters are quite poor.  Fastballs (FF) are found in each cluster and there isnt any sort of obvious separation between the different pitch types."
   ]
  },
  {
   "cell_type": "markdown",
   "id": "b6e0aa47",
   "metadata": {},
   "source": [
    "## Using PCA and K-Means\n",
    "\n",
    "I followed that basic model with one using PCA for dimension reduction in an attempt to find the main factors determining the differnt pitches"
   ]
  },
  {
   "cell_type": "code",
   "execution_count": 39,
   "id": "e5c8280b",
   "metadata": {},
   "outputs": [
    {
     "data": {
      "text/plain": [
       "PCA()"
      ]
     },
     "execution_count": 39,
     "metadata": {},
     "output_type": "execute_result"
    }
   ],
   "source": [
    "from sklearn.decomposition import PCA\n",
    "\n",
    "pca = PCA()\n",
    "pca.fit(scaled)\n"
   ]
  },
  {
   "cell_type": "code",
   "execution_count": 40,
   "id": "3b8f1185",
   "metadata": {},
   "outputs": [
    {
     "data": {
      "text/plain": [
       "array([3.32377830e-01, 1.58541460e-01, 9.97757204e-02, 9.77610760e-02,\n",
       "       8.55965619e-02, 5.25914551e-02, 4.85162763e-02, 3.76009666e-02,\n",
       "       3.48418592e-02, 2.71676323e-02, 1.45825978e-02, 9.62362698e-03,\n",
       "       4.24855381e-04, 3.19761155e-04, 9.79688389e-05, 9.35637448e-05,\n",
       "       6.58622048e-05, 1.69302743e-05, 3.99627744e-06])"
      ]
     },
     "execution_count": 40,
     "metadata": {},
     "output_type": "execute_result"
    }
   ],
   "source": [
    "pca.explained_variance_ratio_"
   ]
  },
  {
   "cell_type": "code",
   "execution_count": 41,
   "id": "facf9dd6",
   "metadata": {},
   "outputs": [
    {
     "data": {
      "text/plain": [
       "Text(0, 0.5, 'Cumulative Explained Variance')"
      ]
     },
     "execution_count": 41,
     "metadata": {},
     "output_type": "execute_result"
    },
    {
     "data": {
      "image/png": "[encoded data removed]",
      "text/plain": [
       "<Figure size 648x648 with 1 Axes>"
      ]
     },
     "metadata": {
      "needs_background": "light"
     },
     "output_type": "display_data"
    }
   ],
   "source": [
    "plt.figure(figsize=(9,9))\n",
    "plt.plot(range(1,20),pca.explained_variance_ratio_.cumsum(),marker='o',linestyle='--')\n",
    "plt.title('Explained Variance By Components')\n",
    "plt.xlabel('Number of Components')\n",
    "plt.ylabel('Cumulative Explained Variance')"
   ]
  },
  {
   "cell_type": "markdown",
   "id": "4489ea2e",
   "metadata": {},
   "source": [
    "We can see that the majority of variance is explained by the first 12 principal components.  Lets fit the PCA model to these 12 components"
   ]
  },
  {
   "cell_type": "code",
   "execution_count": 42,
   "id": "3a5f4bf1",
   "metadata": {},
   "outputs": [
    {
     "data": {
      "text/plain": [
       "PCA(n_components=12)"
      ]
     },
     "execution_count": 42,
     "metadata": {},
     "output_type": "execute_result"
    }
   ],
   "source": [
    "pca = PCA(n_components=12)\n",
    "pca.fit(scaled)"
   ]
  },
  {
   "cell_type": "code",
   "execution_count": 43,
   "id": "02dd6c84",
   "metadata": {},
   "outputs": [],
   "source": [
    "scores_pca = pca.transform(scaled)"
   ]
  },
  {
   "cell_type": "code",
   "execution_count": 44,
   "id": "cebd746b",
   "metadata": {},
   "outputs": [
    {
     "data": {
      "text/plain": [
       "array([[ 1.67924608,  0.85513969, -1.61600993, ...,  0.6261165 ,\n",
       "        -0.49039886,  0.24612753],\n",
       "       [ 0.95150613,  1.06437977, -0.68992788, ...,  0.15796572,\n",
       "         0.24292477,  0.28402307],\n",
       "       [ 2.87194306,  0.95474583,  0.00741951, ...,  0.56680142,\n",
       "        -0.26911206, -0.14359234],\n",
       "       ...,\n",
       "       [ 1.46431474, -0.09370674, -2.32949354, ..., -0.76831705,\n",
       "         1.32691378,  0.43147533],\n",
       "       [ 1.56347873, -0.23892894, -2.1863218 , ..., -0.7542902 ,\n",
       "         1.21239163,  0.18561152],\n",
       "       [ 1.36043392, -0.07486646, -1.69867583, ...,  0.31868539,\n",
       "         1.29149532,  0.1497998 ]])"
      ]
     },
     "execution_count": 44,
     "metadata": {},
     "output_type": "execute_result"
    }
   ],
   "source": [
    "scores_pca"
   ]
  },
  {
   "cell_type": "markdown",
   "id": "1d2b4d1f",
   "metadata": {},
   "source": [
    "And saving the pca components as a dataframe for later"
   ]
  },
  {
   "cell_type": "code",
   "execution_count": 45,
   "id": "c8069bb8",
   "metadata": {},
   "outputs": [],
   "source": [
    "PCA_components = pd.DataFrame(scores_pca)"
   ]
  },
  {
   "cell_type": "markdown",
   "id": "9c0b94f4",
   "metadata": {},
   "source": [
    "Now I will try to find how many clusters we truly have based on the reduced data and the elbow method"
   ]
  },
  {
   "cell_type": "code",
   "execution_count": 46,
   "id": "4b8388cc",
   "metadata": {},
   "outputs": [],
   "source": [
    "inertias = []\n",
    "for i in range (1,14):\n",
    "    kmeans_pca = KMeans(n_clusters=i,init='k-means++',random_state=123)\n",
    "    kmeans_pca.fit(scores_pca)\n",
    "    inertias.append(kmeans_pca.inertia_)"
   ]
  },
  {
   "cell_type": "code",
   "execution_count": 48,
   "id": "fe3b1575",
   "metadata": {},
   "outputs": [
    {
     "data": {
      "text/plain": [
       "Text(0, 0.5, 'K-Means with PCA clustering')"
      ]
     },
     "execution_count": 48,
     "metadata": {},
     "output_type": "execute_result"
    },
    {
     "data": {
      "image/png": "[encoded data removed]",
      "text/plain": [
       "<Figure size 648x648 with 1 Axes>"
      ]
     },
     "metadata": {
      "needs_background": "light"
     },
     "output_type": "display_data"
    }
   ],
   "source": [
    "plt.figure(figsize=(9,9))\n",
    "plt.plot(range(1,14),inertias,marker='o',linestyle='--')\n",
    "plt.title('Number of Clusters')\n",
    "plt.xlabel('Inertias')\n",
    "plt.ylabel('K-Means with PCA clustering')"
   ]
  },
  {
   "cell_type": "markdown",
   "id": "c98aeb52",
   "metadata": {},
   "source": [
    "Using the elbow method, we see there appear to be 3 clusters in this data.  This suggests there are 3 general pitch types that batters should focus on and attempt to identify in the fraction of a second they have before the pitch arrives at home plate.  This is significantly less than the 9 different pitch types the statcast data suggests.\n",
    "\n",
    "Plotting the clusters based on a scatterplot of the 1st principal component vs the 2nd.  We see there are clearly 3 distinct clusters"
   ]
  },
  {
   "cell_type": "code",
   "execution_count": 49,
   "id": "be65849b",
   "metadata": {},
   "outputs": [
    {
     "data": {
      "text/plain": [
       "<matplotlib.collections.PathCollection at 0x165cff746c8>"
      ]
     },
     "execution_count": 49,
     "metadata": {},
     "output_type": "execute_result"
    },
    {
     "data": {
      "image/png": "[encoded data removed]",
      "text/plain": [
       "<Figure size 648x648 with 1 Axes>"
      ]
     },
     "metadata": {
      "needs_background": "light"
     },
     "output_type": "display_data"
    }
   ],
   "source": [
    "model = KMeans(n_clusters=3,init='k-means++',random_state=123)\n",
    "model.fit(PCA_components.iloc[:,:2])\n",
    "\n",
    "labels = model.predict(PCA_components.iloc[:,:2])\n",
    "plt.figure(figsize=(9,9))\n",
    "plt.scatter(PCA_components[0], PCA_components[1], c=labels)"
   ]
  },
  {
   "cell_type": "markdown",
   "id": "bc0fbafa",
   "metadata": {},
   "source": [
    "That is great, as we have shown there are 3 types of pitches that hitters should focus on, but what are the main factors influencing these different clusters and pitch types.  In order to answer that, I will look at the loadings of the different principal components."
   ]
  },
  {
   "cell_type": "code",
   "execution_count": 50,
   "id": "fc660463",
   "metadata": {},
   "outputs": [],
   "source": [
    "loadings = pca.components_.T * np.sqrt(pca.explained_variance_)"
   ]
  },
  {
   "cell_type": "code",
   "execution_count": 51,
   "id": "8ecbd679",
   "metadata": {},
   "outputs": [
    {
     "data": {
      "text/plain": [
       "(19, 12)"
      ]
     },
     "execution_count": 51,
     "metadata": {},
     "output_type": "execute_result"
    }
   ],
   "source": [
    "loadings.shape"
   ]
  },
  {
   "cell_type": "code",
   "execution_count": 52,
   "id": "67385290",
   "metadata": {},
   "outputs": [
    {
     "data": {
      "text/plain": [
       "Index(['release_speed', 'release_pos_x', 'release_pos_z', 'zone', 'pfx_x',\n",
       "       'pfx_z', 'plate_x', 'plate_z', 'vx0', 'vy0', 'vz0', 'ax', 'ay', 'az',\n",
       "       'effective_speed', 'release_spin_rate', 'release_extension',\n",
       "       'release_pos_y', 'spin_axis'],\n",
       "      dtype='object')"
      ]
     },
     "execution_count": 52,
     "metadata": {},
     "output_type": "execute_result"
    }
   ],
   "source": [
    "data_X.columns"
   ]
  },
  {
   "cell_type": "code",
   "execution_count": 53,
   "id": "50cfda96",
   "metadata": {},
   "outputs": [],
   "source": [
    "results_df = pd.DataFrame(data=loadings,index=data_X.columns,columns=['PC_1','PC_2','PC_3','PC_4','PC_5','PC_6','PC_7','PC_8','PC_9','PC_10','PC_11','PC_12'])"
   ]
  },
  {
   "cell_type": "code",
   "execution_count": 54,
   "id": "99b54d08",
   "metadata": {},
   "outputs": [
    {
     "data": {
      "text/html": [
       "<div>\n",
       "<style scoped>\n",
       "    .dataframe tbody tr th:only-of-type {\n",
       "        vertical-align: middle;\n",
       "    }\n",
       "\n",
       "    .dataframe tbody tr th {\n",
       "        vertical-align: top;\n",
       "    }\n",
       "\n",
       "    .dataframe thead th {\n",
       "        text-align: right;\n",
       "    }\n",
       "</style>\n",
       "<table border=\"1\" class=\"dataframe\">\n",
       "  <thead>\n",
       "    <tr style=\"text-align: right;\">\n",
       "      <th></th>\n",
       "      <th>PC_1</th>\n",
       "      <th>PC_2</th>\n",
       "      <th>PC_3</th>\n",
       "      <th>PC_4</th>\n",
       "      <th>PC_5</th>\n",
       "      <th>PC_6</th>\n",
       "      <th>PC_7</th>\n",
       "      <th>PC_8</th>\n",
       "      <th>PC_9</th>\n",
       "      <th>PC_10</th>\n",
       "      <th>PC_11</th>\n",
       "      <th>PC_12</th>\n",
       "    </tr>\n",
       "  </thead>\n",
       "  <tbody>\n",
       "    <tr>\n",
       "      <th>release_speed</th>\n",
       "      <td>0.921915</td>\n",
       "      <td>0.208545</td>\n",
       "      <td>-0.065989</td>\n",
       "      <td>-0.056500</td>\n",
       "      <td>-0.158483</td>\n",
       "      <td>-0.151761</td>\n",
       "      <td>-0.041633</td>\n",
       "      <td>-0.048101</td>\n",
       "      <td>-0.003677</td>\n",
       "      <td>-0.169409</td>\n",
       "      <td>0.133723</td>\n",
       "      <td>-0.004955</td>\n",
       "    </tr>\n",
       "    <tr>\n",
       "      <th>release_pos_x</th>\n",
       "      <td>-0.226539</td>\n",
       "      <td>0.699928</td>\n",
       "      <td>-0.155522</td>\n",
       "      <td>0.117777</td>\n",
       "      <td>0.476838</td>\n",
       "      <td>-0.193683</td>\n",
       "      <td>0.064499</td>\n",
       "      <td>0.347820</td>\n",
       "      <td>-0.033720</td>\n",
       "      <td>-0.096351</td>\n",
       "      <td>-0.014195</td>\n",
       "      <td>-0.139820</td>\n",
       "    </tr>\n",
       "    <tr>\n",
       "      <th>release_pos_z</th>\n",
       "      <td>0.091273</td>\n",
       "      <td>0.201651</td>\n",
       "      <td>-0.258320</td>\n",
       "      <td>-0.414006</td>\n",
       "      <td>0.154909</td>\n",
       "      <td>0.742634</td>\n",
       "      <td>-0.154150</td>\n",
       "      <td>0.153661</td>\n",
       "      <td>0.247813</td>\n",
       "      <td>-0.166347</td>\n",
       "      <td>0.005312</td>\n",
       "      <td>0.027156</td>\n",
       "    </tr>\n",
       "    <tr>\n",
       "      <th>zone</th>\n",
       "      <td>-0.169623</td>\n",
       "      <td>-0.071286</td>\n",
       "      <td>0.332491</td>\n",
       "      <td>-0.507761</td>\n",
       "      <td>0.191691</td>\n",
       "      <td>-0.382660</td>\n",
       "      <td>0.032042</td>\n",
       "      <td>-0.043566</td>\n",
       "      <td>0.639055</td>\n",
       "      <td>0.055062</td>\n",
       "      <td>0.015696</td>\n",
       "      <td>-0.002687</td>\n",
       "    </tr>\n",
       "    <tr>\n",
       "      <th>pfx_x</th>\n",
       "      <td>-0.516592</td>\n",
       "      <td>0.762009</td>\n",
       "      <td>0.151599</td>\n",
       "      <td>-0.050271</td>\n",
       "      <td>-0.251651</td>\n",
       "      <td>0.021553</td>\n",
       "      <td>0.059498</td>\n",
       "      <td>-0.150357</td>\n",
       "      <td>-0.011733</td>\n",
       "      <td>0.026316</td>\n",
       "      <td>0.024003</td>\n",
       "      <td>0.179546</td>\n",
       "    </tr>\n",
       "    <tr>\n",
       "      <th>pfx_z</th>\n",
       "      <td>0.822269</td>\n",
       "      <td>0.289476</td>\n",
       "      <td>-0.140541</td>\n",
       "      <td>-0.023258</td>\n",
       "      <td>0.075524</td>\n",
       "      <td>0.051413</td>\n",
       "      <td>0.226084</td>\n",
       "      <td>-0.055760</td>\n",
       "      <td>0.010225</td>\n",
       "      <td>0.389179</td>\n",
       "      <td>-0.042208</td>\n",
       "      <td>-0.025398</td>\n",
       "    </tr>\n",
       "    <tr>\n",
       "      <th>plate_x</th>\n",
       "      <td>-0.091281</td>\n",
       "      <td>0.078245</td>\n",
       "      <td>0.333907</td>\n",
       "      <td>-0.405608</td>\n",
       "      <td>-0.359602</td>\n",
       "      <td>0.015335</td>\n",
       "      <td>0.623807</td>\n",
       "      <td>0.406054</td>\n",
       "      <td>-0.109991</td>\n",
       "      <td>-0.112932</td>\n",
       "      <td>-0.014931</td>\n",
       "      <td>-0.028184</td>\n",
       "    </tr>\n",
       "    <tr>\n",
       "      <th>plate_z</th>\n",
       "      <td>0.270975</td>\n",
       "      <td>0.124656</td>\n",
       "      <td>-0.392604</td>\n",
       "      <td>0.643629</td>\n",
       "      <td>-0.328367</td>\n",
       "      <td>0.193694</td>\n",
       "      <td>0.218786</td>\n",
       "      <td>0.088612</td>\n",
       "      <td>0.373897</td>\n",
       "      <td>0.006176</td>\n",
       "      <td>0.033799</td>\n",
       "      <td>-0.006315</td>\n",
       "    </tr>\n",
       "    <tr>\n",
       "      <th>vx0</th>\n",
       "      <td>0.329421</td>\n",
       "      <td>-0.763966</td>\n",
       "      <td>0.190116</td>\n",
       "      <td>-0.215316</td>\n",
       "      <td>-0.418128</td>\n",
       "      <td>0.146959</td>\n",
       "      <td>0.143831</td>\n",
       "      <td>-0.070576</td>\n",
       "      <td>-0.007548</td>\n",
       "      <td>0.024695</td>\n",
       "      <td>-0.000335</td>\n",
       "      <td>0.042658</td>\n",
       "    </tr>\n",
       "    <tr>\n",
       "      <th>vy0</th>\n",
       "      <td>-0.921323</td>\n",
       "      <td>-0.208994</td>\n",
       "      <td>0.062740</td>\n",
       "      <td>0.047027</td>\n",
       "      <td>0.160184</td>\n",
       "      <td>0.145854</td>\n",
       "      <td>0.044106</td>\n",
       "      <td>0.047815</td>\n",
       "      <td>0.000323</td>\n",
       "      <td>0.171816</td>\n",
       "      <td>-0.143279</td>\n",
       "      <td>0.005291</td>\n",
       "    </tr>\n",
       "    <tr>\n",
       "      <th>vz0</th>\n",
       "      <td>-0.571585</td>\n",
       "      <td>-0.206746</td>\n",
       "      <td>-0.113215</td>\n",
       "      <td>0.675568</td>\n",
       "      <td>-0.289884</td>\n",
       "      <td>-0.132473</td>\n",
       "      <td>0.135123</td>\n",
       "      <td>0.046383</td>\n",
       "      <td>0.183087</td>\n",
       "      <td>-0.066925</td>\n",
       "      <td>-0.018249</td>\n",
       "      <td>-0.000043</td>\n",
       "    </tr>\n",
       "    <tr>\n",
       "      <th>ax</th>\n",
       "      <td>-0.526364</td>\n",
       "      <td>0.802668</td>\n",
       "      <td>0.099913</td>\n",
       "      <td>-0.014122</td>\n",
       "      <td>-0.132124</td>\n",
       "      <td>-0.006157</td>\n",
       "      <td>0.051809</td>\n",
       "      <td>-0.103852</td>\n",
       "      <td>-0.013826</td>\n",
       "      <td>0.024805</td>\n",
       "      <td>0.037702</td>\n",
       "      <td>0.178927</td>\n",
       "    </tr>\n",
       "    <tr>\n",
       "      <th>ay</th>\n",
       "      <td>0.795165</td>\n",
       "      <td>0.197295</td>\n",
       "      <td>-0.049364</td>\n",
       "      <td>-0.020336</td>\n",
       "      <td>-0.193573</td>\n",
       "      <td>-0.165758</td>\n",
       "      <td>-0.130272</td>\n",
       "      <td>0.009909</td>\n",
       "      <td>0.043718</td>\n",
       "      <td>-0.213796</td>\n",
       "      <td>-0.437961</td>\n",
       "      <td>0.066857</td>\n",
       "    </tr>\n",
       "    <tr>\n",
       "      <th>az</th>\n",
       "      <td>0.863108</td>\n",
       "      <td>0.296507</td>\n",
       "      <td>-0.118005</td>\n",
       "      <td>-0.063314</td>\n",
       "      <td>0.047662</td>\n",
       "      <td>0.056343</td>\n",
       "      <td>0.152744</td>\n",
       "      <td>-0.023990</td>\n",
       "      <td>0.008900</td>\n",
       "      <td>0.334506</td>\n",
       "      <td>-0.056550</td>\n",
       "      <td>-0.022099</td>\n",
       "    </tr>\n",
       "    <tr>\n",
       "      <th>effective_speed</th>\n",
       "      <td>0.929779</td>\n",
       "      <td>0.207882</td>\n",
       "      <td>0.041599</td>\n",
       "      <td>0.003204</td>\n",
       "      <td>-0.129503</td>\n",
       "      <td>-0.113336</td>\n",
       "      <td>-0.046400</td>\n",
       "      <td>-0.038127</td>\n",
       "      <td>0.000751</td>\n",
       "      <td>-0.155727</td>\n",
       "      <td>0.181173</td>\n",
       "      <td>-0.010738</td>\n",
       "    </tr>\n",
       "    <tr>\n",
       "      <th>release_spin_rate</th>\n",
       "      <td>-0.130704</td>\n",
       "      <td>0.093768</td>\n",
       "      <td>-0.010769</td>\n",
       "      <td>-0.128567</td>\n",
       "      <td>-0.614333</td>\n",
       "      <td>-0.116339</td>\n",
       "      <td>-0.542066</td>\n",
       "      <td>0.454715</td>\n",
       "      <td>0.011002</td>\n",
       "      <td>0.253475</td>\n",
       "      <td>0.038035</td>\n",
       "      <td>-0.010595</td>\n",
       "    </tr>\n",
       "    <tr>\n",
       "      <th>release_extension</th>\n",
       "      <td>0.394923</td>\n",
       "      <td>0.081300</td>\n",
       "      <td>0.790818</td>\n",
       "      <td>0.380279</td>\n",
       "      <td>0.146235</td>\n",
       "      <td>0.170494</td>\n",
       "      <td>-0.089893</td>\n",
       "      <td>0.081327</td>\n",
       "      <td>0.033948</td>\n",
       "      <td>0.014060</td>\n",
       "      <td>-0.004903</td>\n",
       "      <td>0.002181</td>\n",
       "    </tr>\n",
       "    <tr>\n",
       "      <th>release_pos_y</th>\n",
       "      <td>-0.395542</td>\n",
       "      <td>-0.081447</td>\n",
       "      <td>-0.790700</td>\n",
       "      <td>-0.380159</td>\n",
       "      <td>-0.146210</td>\n",
       "      <td>-0.170199</td>\n",
       "      <td>0.089588</td>\n",
       "      <td>-0.081003</td>\n",
       "      <td>-0.033821</td>\n",
       "      <td>-0.014274</td>\n",
       "      <td>0.004918</td>\n",
       "      <td>-0.002346</td>\n",
       "    </tr>\n",
       "    <tr>\n",
       "      <th>spin_axis</th>\n",
       "      <td>0.468744</td>\n",
       "      <td>-0.490515</td>\n",
       "      <td>-0.223301</td>\n",
       "      <td>0.118621</td>\n",
       "      <td>0.477778</td>\n",
       "      <td>-0.156126</td>\n",
       "      <td>0.059159</td>\n",
       "      <td>0.353406</td>\n",
       "      <td>-0.026940</td>\n",
       "      <td>0.028708</td>\n",
       "      <td>0.058127</td>\n",
       "      <td>0.299592</td>\n",
       "    </tr>\n",
       "  </tbody>\n",
       "</table>\n",
       "</div>"
      ],
      "text/plain": [
       "                       PC_1      PC_2      PC_3      PC_4      PC_5      PC_6  \\\n",
       "release_speed      0.921915  0.208545 -0.065989 -0.056500 -0.158483 -0.151761   \n",
       "release_pos_x     -0.226539  0.699928 -0.155522  0.117777  0.476838 -0.193683   \n",
       "release_pos_z      0.091273  0.201651 -0.258320 -0.414006  0.154909  0.742634   \n",
       "zone              -0.169623 -0.071286  0.332491 -0.507761  0.191691 -0.382660   \n",
       "pfx_x             -0.516592  0.762009  0.151599 -0.050271 -0.251651  0.021553   \n",
       "pfx_z              0.822269  0.289476 -0.140541 -0.023258  0.075524  0.051413   \n",
       "plate_x           -0.091281  0.078245  0.333907 -0.405608 -0.359602  0.015335   \n",
       "plate_z            0.270975  0.124656 -0.392604  0.643629 -0.328367  0.193694   \n",
       "vx0                0.329421 -0.763966  0.190116 -0.215316 -0.418128  0.146959   \n",
       "vy0               -0.921323 -0.208994  0.062740  0.047027  0.160184  0.145854   \n",
       "vz0               -0.571585 -0.206746 -0.113215  0.675568 -0.289884 -0.132473   \n",
       "ax                -0.526364  0.802668  0.099913 -0.014122 -0.132124 -0.006157   \n",
       "ay                 0.795165  0.197295 -0.049364 -0.020336 -0.193573 -0.165758   \n",
       "az                 0.863108  0.296507 -0.118005 -0.063314  0.047662  0.056343   \n",
       "effective_speed    0.929779  0.207882  0.041599  0.003204 -0.129503 -0.113336   \n",
       "release_spin_rate -0.130704  0.093768 -0.010769 -0.128567 -0.614333 -0.116339   \n",
       "release_extension  0.394923  0.081300  0.790818  0.380279  0.146235  0.170494   \n",
       "release_pos_y     -0.395542 -0.081447 -0.790700 -0.380159 -0.146210 -0.170199   \n",
       "spin_axis          0.468744 -0.490515 -0.223301  0.118621  0.477778 -0.156126   \n",
       "\n",
       "                       PC_7      PC_8      PC_9     PC_10     PC_11     PC_12  \n",
       "release_speed     -0.041633 -0.048101 -0.003677 -0.169409  0.133723 -0.004955  \n",
       "release_pos_x      0.064499  0.347820 -0.033720 -0.096351 -0.014195 -0.139820  \n",
       "release_pos_z     -0.154150  0.153661  0.247813 -0.166347  0.005312  0.027156  \n",
       "zone               0.032042 -0.043566  0.639055  0.055062  0.015696 -0.002687  \n",
       "pfx_x              0.059498 -0.150357 -0.011733  0.026316  0.024003  0.179546  \n",
       "pfx_z              0.226084 -0.055760  0.010225  0.389179 -0.042208 -0.025398  \n",
       "plate_x            0.623807  0.406054 -0.109991 -0.112932 -0.014931 -0.028184  \n",
       "plate_z            0.218786  0.088612  0.373897  0.006176  0.033799 -0.006315  \n",
       "vx0                0.143831 -0.070576 -0.007548  0.024695 -0.000335  0.042658  \n",
       "vy0                0.044106  0.047815  0.000323  0.171816 -0.143279  0.005291  \n",
       "vz0                0.135123  0.046383  0.183087 -0.066925 -0.018249 -0.000043  \n",
       "ax                 0.051809 -0.103852 -0.013826  0.024805  0.037702  0.178927  \n",
       "ay                -0.130272  0.009909  0.043718 -0.213796 -0.437961  0.066857  \n",
       "az                 0.152744 -0.023990  0.008900  0.334506 -0.056550 -0.022099  \n",
       "effective_speed   -0.046400 -0.038127  0.000751 -0.155727  0.181173 -0.010738  \n",
       "release_spin_rate -0.542066  0.454715  0.011002  0.253475  0.038035 -0.010595  \n",
       "release_extension -0.089893  0.081327  0.033948  0.014060 -0.004903  0.002181  \n",
       "release_pos_y      0.089588 -0.081003 -0.033821 -0.014274  0.004918 -0.002346  \n",
       "spin_axis          0.059159  0.353406 -0.026940  0.028708  0.058127  0.299592  "
      ]
     },
     "execution_count": 54,
     "metadata": {},
     "output_type": "execute_result"
    }
   ],
   "source": [
    "results_df"
   ]
  },
  {
   "cell_type": "markdown",
   "id": "4e157532",
   "metadata": {},
   "source": [
    "So, we can see the most important variables are the effective speed, release speed, and velocity in the y direction (y direction is toward home plate, probably indicating a fastball).  These are followed by the variables indicating up/down movement (the z direction) and lastly variables indicating movement in the x (left/right direction).  These x direction variables are much more relevant in the second principal component.  This indicates a batter may only need to be able to recognize only three pitch types (straight at the batter at high velocity, large movement up and down which may indicate a curveball, and large movements to the left and right) in order to be succesful at the plate.  This is interesting and could be used by a hitting coach or player attempting to improve their hitting by looking for key movements in order to recognize a pitch before swinging."
   ]
  },
  {
   "cell_type": "code",
   "execution_count": null,
   "id": "c2118419",
   "metadata": {},
   "outputs": [],
   "source": []
  }
 ],
 "metadata": {
  "kernelspec": {
   "display_name": "Python 3 (ipykernel)",
   "language": "python",
   "name": "python3"
  },
  "language_info": {
   "codemirror_mode": {
    "name": "ipython",
    "version": 3
   },
   "file_extension": ".py",
   "mimetype": "text/x-python",
   "name": "python",
   "nbconvert_exporter": "python",
   "pygments_lexer": "ipython3",
   "version": "3.7.11"
  }
 },
 "nbformat": 4,
 "nbformat_minor": 5
}
